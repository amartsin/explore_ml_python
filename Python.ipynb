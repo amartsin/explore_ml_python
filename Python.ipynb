{
  "nbformat": 4,
  "nbformat_minor": 0,
  "metadata": {
    "colab": {
      "name": "Python",
      "provenance": [],
      "collapsed_sections": [],
      "include_colab_link": true
    },
    "kernelspec": {
      "name": "python3",
      "display_name": "Python 3"
    }
  },
  "cells": [
    {
      "cell_type": "markdown",
      "metadata": {
        "id": "view-in-github",
        "colab_type": "text"
      },
      "source": [
        "<a href=\"https://colab.research.google.com/github/amartsin/explore_ml_python/blob/master/Python.ipynb\" target=\"_parent\"><img src=\"https://colab.research.google.com/assets/colab-badge.svg\" alt=\"Open In Colab\"/></a>"
      ]
    },
    {
      "cell_type": "markdown",
      "metadata": {
        "id": "8drtqVMm0-5Z",
        "colab_type": "text"
      },
      "source": [
        "**Introduction to Python **\n"
      ]
    },
    {
      "cell_type": "markdown",
      "metadata": {
        "id": "WBHMI3fc1EoL",
        "colab_type": "text"
      },
      "source": [
        "Python is an interpreted, high level,general purpose programming language.It was first released in 1991.\n",
        "Python is a very flexible language used in various fields like Machine Learning, Image Processing , Web Frameworks like Django."
      ]
    },
    {
      "cell_type": "markdown",
      "metadata": {
        "id": "y_1CIerM3Xzh",
        "colab_type": "text"
      },
      "source": [
        "There are mainly two types of numbers . 1. Integer 2. Floating point numbers \n",
        "So we'll see the basic operations we can do upon the numbers .\n"
      ]
    },
    {
      "cell_type": "code",
      "metadata": {
        "id": "rsT4jfg43m8n",
        "colab_type": "code",
        "outputId": "451059e8-444e-4154-8247-3cca1a8f8027",
        "colab": {
          "base_uri": "https://localhost:8080/",
          "height": 34
        }
      },
      "source": [
        "#Addition\n",
        "2+3"
      ],
      "execution_count": 0,
      "outputs": [
        {
          "output_type": "execute_result",
          "data": {
            "text/plain": [
              "5"
            ]
          },
          "metadata": {
            "tags": []
          },
          "execution_count": 1
        }
      ]
    },
    {
      "cell_type": "code",
      "metadata": {
        "id": "KOnY1iZG3psm",
        "colab_type": "code",
        "outputId": "77271e78-cc93-4cf3-bb84-3244cd679d9c",
        "colab": {
          "base_uri": "https://localhost:8080/",
          "height": 34
        }
      },
      "source": [
        "#Subtraction\n",
        "4-3"
      ],
      "execution_count": 0,
      "outputs": [
        {
          "output_type": "execute_result",
          "data": {
            "text/plain": [
              "1"
            ]
          },
          "metadata": {
            "tags": []
          },
          "execution_count": 2
        }
      ]
    },
    {
      "cell_type": "code",
      "metadata": {
        "id": "-p1ngeXo3vxK",
        "colab_type": "code",
        "outputId": "3693c699-3ee1-419c-82ba-9ca153e644ba",
        "colab": {
          "base_uri": "https://localhost:8080/",
          "height": 34
        }
      },
      "source": [
        "#Multiplication\n",
        "2*3"
      ],
      "execution_count": 0,
      "outputs": [
        {
          "output_type": "execute_result",
          "data": {
            "text/plain": [
              "6"
            ]
          },
          "metadata": {
            "tags": []
          },
          "execution_count": 3
        }
      ]
    },
    {
      "cell_type": "code",
      "metadata": {
        "id": "myAfVsm43zRV",
        "colab_type": "code",
        "outputId": "aaf11000-26df-4add-f09c-a4a22a47aac9",
        "colab": {
          "base_uri": "https://localhost:8080/",
          "height": 34
        }
      },
      "source": [
        "#Division\n",
        "7/4"
      ],
      "execution_count": 0,
      "outputs": [
        {
          "output_type": "execute_result",
          "data": {
            "text/plain": [
              "1.75"
            ]
          },
          "metadata": {
            "tags": []
          },
          "execution_count": 5
        }
      ]
    },
    {
      "cell_type": "code",
      "metadata": {
        "id": "-ijlzIKu32Up",
        "colab_type": "code",
        "outputId": "82a8bbe5-09c8-46b1-beef-9918cf95020c",
        "colab": {
          "base_uri": "https://localhost:8080/",
          "height": 34
        }
      },
      "source": [
        "7//4"
      ],
      "execution_count": 0,
      "outputs": [
        {
          "output_type": "execute_result",
          "data": {
            "text/plain": [
              "1"
            ]
          },
          "metadata": {
            "tags": []
          },
          "execution_count": 6
        }
      ]
    },
    {
      "cell_type": "markdown",
      "metadata": {
        "id": "K5SlSEJ94SFv",
        "colab_type": "text"
      },
      "source": [
        "**Whoa!!**\n",
        "What just happened???\n",
        "Actually the no. gives the floor function ."
      ]
    },
    {
      "cell_type": "code",
      "metadata": {
        "id": "PhLDyBIk4cLL",
        "colab_type": "code",
        "outputId": "61782a78-0151-4c4a-a6d5-fe24d96f6202",
        "colab": {
          "base_uri": "https://localhost:8080/",
          "height": 34
        }
      },
      "source": [
        "#Modulo\n",
        "7%4"
      ],
      "execution_count": 0,
      "outputs": [
        {
          "output_type": "execute_result",
          "data": {
            "text/plain": [
              "3"
            ]
          },
          "metadata": {
            "tags": []
          },
          "execution_count": 7
        }
      ]
    },
    {
      "cell_type": "code",
      "metadata": {
        "id": "INajd4KW4hGN",
        "colab_type": "code",
        "outputId": "9206dcdb-2aa7-41af-d538-049d2235e85f",
        "colab": {
          "base_uri": "https://localhost:8080/",
          "height": 34
        }
      },
      "source": [
        "#Powers\n",
        "2**3"
      ],
      "execution_count": 0,
      "outputs": [
        {
          "output_type": "execute_result",
          "data": {
            "text/plain": [
              "8"
            ]
          },
          "metadata": {
            "tags": []
          },
          "execution_count": 8
        }
      ]
    },
    {
      "cell_type": "code",
      "metadata": {
        "id": "bKwxorBa4krp",
        "colab_type": "code",
        "outputId": "87aa0441-4f2e-4602-e118-b061dfeef3a8",
        "colab": {
          "base_uri": "https://localhost:8080/",
          "height": 34
        }
      },
      "source": [
        "#We can also do its roots in the same way \n",
        "4**0.5"
      ],
      "execution_count": 0,
      "outputs": [
        {
          "output_type": "execute_result",
          "data": {
            "text/plain": [
              "2.0"
            ]
          },
          "metadata": {
            "tags": []
          },
          "execution_count": 9
        }
      ]
    },
    {
      "cell_type": "code",
      "metadata": {
        "id": "Jo-zuoxR4r2B",
        "colab_type": "code",
        "outputId": "8e87caaa-7eae-43b1-b8db-cf7c0d29cf1c",
        "colab": {
          "base_uri": "https://localhost:8080/",
          "height": 34
        }
      },
      "source": [
        "#Order of operations \n",
        "2 + 10*10 + 3"
      ],
      "execution_count": 0,
      "outputs": [
        {
          "output_type": "execute_result",
          "data": {
            "text/plain": [
              "105"
            ]
          },
          "metadata": {
            "tags": []
          },
          "execution_count": 10
        }
      ]
    },
    {
      "cell_type": "markdown",
      "metadata": {
        "id": "Gmd_mG_844bc",
        "colab_type": "text"
      },
      "source": [
        "**Variable Assignment**"
      ]
    },
    {
      "cell_type": "code",
      "metadata": {
        "id": "eIZrr8la47BZ",
        "colab_type": "code",
        "colab": {}
      },
      "source": [
        "#Lets create an object and assign it some value\n",
        "a = 5"
      ],
      "execution_count": 0,
      "outputs": []
    },
    {
      "cell_type": "code",
      "metadata": {
        "id": "jmM_u3CH6CYh",
        "colab_type": "code",
        "outputId": "af002dd4-fd06-48df-f3f6-fbad17bdfc53",
        "colab": {
          "base_uri": "https://localhost:8080/",
          "height": 34
        }
      },
      "source": [
        "#Adding objects\n",
        "a+a"
      ],
      "execution_count": 0,
      "outputs": [
        {
          "output_type": "execute_result",
          "data": {
            "text/plain": [
              "10"
            ]
          },
          "metadata": {
            "tags": []
          },
          "execution_count": 12
        }
      ]
    },
    {
      "cell_type": "code",
      "metadata": {
        "id": "UZA5Eux46FcJ",
        "colab_type": "code",
        "colab": {}
      },
      "source": [
        ""
      ],
      "execution_count": 0,
      "outputs": []
    },
    {
      "cell_type": "markdown",
      "metadata": {
        "id": "gHssG6W-6Oso",
        "colab_type": "text"
      },
      "source": [
        "\n",
        "The names you use when creating these labels need to follow a few rules:\n",
        "\n",
        "1. Names can not start with a number.\n",
        "2. There can be no spaces in the name, use _ instead.\n",
        "3. Can't use any of these symbols :'\",<>/?|\\()!@#$%^&*~-+\n",
        "4. It's considered best practice (PEP8) that names are lowercase.\n",
        "5. Avoid using the characters 'l' (lowercase letter el), 'O' (uppercase letter oh), \n",
        "   or 'I' (uppercase letter eye) as single character variable names.\n",
        "6. Avoid using words that have special meaning in Python like \"list\" and \"str\"\n"
      ]
    },
    {
      "cell_type": "markdown",
      "metadata": {
        "id": "_o9WQk466ysh",
        "colab_type": "text"
      },
      "source": [
        "Python uses dynamic typing, meaning you can reassign variables to different data types. This makes Python very flexible in assigning data types; it differs from other languages that are statically typed."
      ]
    },
    {
      "cell_type": "code",
      "metadata": {
        "id": "61_6pha561XL",
        "colab_type": "code",
        "colab": {}
      },
      "source": [
        "my_dogs = 2"
      ],
      "execution_count": 0,
      "outputs": []
    },
    {
      "cell_type": "code",
      "metadata": {
        "id": "wQPmFuJ863rb",
        "colab_type": "code",
        "outputId": "9a3f5b5b-613a-4dd6-aed9-8c0e8a78face",
        "colab": {
          "base_uri": "https://localhost:8080/",
          "height": 34
        }
      },
      "source": [
        "my_dogs"
      ],
      "execution_count": 0,
      "outputs": [
        {
          "output_type": "execute_result",
          "data": {
            "text/plain": [
              "2"
            ]
          },
          "metadata": {
            "tags": []
          },
          "execution_count": 15
        }
      ]
    },
    {
      "cell_type": "code",
      "metadata": {
        "id": "SPntkfop64i5",
        "colab_type": "code",
        "colab": {}
      },
      "source": [
        "my_dogs = ['Sammy', 'Frankie']"
      ],
      "execution_count": 0,
      "outputs": []
    },
    {
      "cell_type": "code",
      "metadata": {
        "id": "GZz2cmCn6-p8",
        "colab_type": "code",
        "outputId": "0b4cd2a8-f74c-4b83-d7f9-e98b456faab2",
        "colab": {
          "base_uri": "https://localhost:8080/",
          "height": 34
        }
      },
      "source": [
        "my_dogs"
      ],
      "execution_count": 0,
      "outputs": [
        {
          "output_type": "execute_result",
          "data": {
            "text/plain": [
              "['Sammy', 'Frankie']"
            ]
          },
          "metadata": {
            "tags": []
          },
          "execution_count": 17
        }
      ]
    },
    {
      "cell_type": "markdown",
      "metadata": {
        "id": "Nv9ulwaT8mVk",
        "colab_type": "text"
      },
      "source": [
        "**STRINGS**"
      ]
    },
    {
      "cell_type": "markdown",
      "metadata": {
        "id": "Cad29sEp8uPt",
        "colab_type": "text"
      },
      "source": [
        "To create a string in Python you need to use either single quotes or double quotes. For example:"
      ]
    },
    {
      "cell_type": "code",
      "metadata": {
        "id": "zILG6FXs8xnE",
        "colab_type": "code",
        "outputId": "02d8f90c-ccd8-47e9-cd23-44a528975a7e",
        "colab": {
          "base_uri": "https://localhost:8080/",
          "height": 34
        }
      },
      "source": [
        "# Single word\n",
        "'hello'"
      ],
      "execution_count": 0,
      "outputs": [
        {
          "output_type": "execute_result",
          "data": {
            "text/plain": [
              "'hello'"
            ]
          },
          "metadata": {
            "tags": []
          },
          "execution_count": 18
        }
      ]
    },
    {
      "cell_type": "code",
      "metadata": {
        "id": "mjVVj9238z28",
        "colab_type": "code",
        "outputId": "9ce20f5d-976b-4126-a310-9d4e3e9cdc61",
        "colab": {
          "base_uri": "https://localhost:8080/",
          "height": 34
        }
      },
      "source": [
        "# Entire phrase \n",
        "'This is also a string'"
      ],
      "execution_count": 0,
      "outputs": [
        {
          "output_type": "execute_result",
          "data": {
            "text/plain": [
              "'This is also a string'"
            ]
          },
          "metadata": {
            "tags": []
          },
          "execution_count": 19
        }
      ]
    },
    {
      "cell_type": "code",
      "metadata": {
        "id": "aTjgMEro82DX",
        "colab_type": "code",
        "outputId": "bcb1e274-2d00-42e2-99e9-c36aaf9b2202",
        "colab": {
          "base_uri": "https://localhost:8080/",
          "height": 129
        }
      },
      "source": [
        "# Be careful with quotes!\n",
        "' I'm using single quotes, but this will create an error'"
      ],
      "execution_count": 0,
      "outputs": [
        {
          "output_type": "error",
          "ename": "SyntaxError",
          "evalue": "ignored",
          "traceback": [
            "\u001b[0;36m  File \u001b[0;32m\"<ipython-input-20-78b2bcaeaa9b>\"\u001b[0;36m, line \u001b[0;32m1\u001b[0m\n\u001b[0;31m    ' I'm using single quotes, but this will create an error'\u001b[0m\n\u001b[0m        ^\u001b[0m\n\u001b[0;31mSyntaxError\u001b[0m\u001b[0;31m:\u001b[0m invalid syntax\n"
          ]
        }
      ]
    },
    {
      "cell_type": "markdown",
      "metadata": {
        "id": "ilOidKcn9IOO",
        "colab_type": "text"
      },
      "source": [
        "**STRING INDEXING**"
      ]
    },
    {
      "cell_type": "markdown",
      "metadata": {
        "id": "inrpK76s9NMx",
        "colab_type": "text"
      },
      "source": [
        "We know strings are a sequence, which means Python can use indexes to call parts of the sequence. Let's learn how this works.\n",
        "\n",
        "In Python, we use brackets [] after an object to call its index. We should also note that indexing starts at 0 for Python. Let's create a new object called s and then walk through a few examples of indexing."
      ]
    },
    {
      "cell_type": "code",
      "metadata": {
        "id": "r2qTAQt030FH",
        "colab_type": "code",
        "colab": {}
      },
      "source": [
        "# Assign s as a string\n",
        "s = 'Hello World'"
      ],
      "execution_count": 0,
      "outputs": []
    },
    {
      "cell_type": "code",
      "metadata": {
        "id": "ULm_OMOC311B",
        "colab_type": "code",
        "outputId": "9ba838da-9ec5-4152-b4e4-801f169550a3",
        "colab": {
          "base_uri": "https://localhost:8080/",
          "height": 34
        }
      },
      "source": [
        "#Check\n",
        "s"
      ],
      "execution_count": 0,
      "outputs": [
        {
          "output_type": "execute_result",
          "data": {
            "text/plain": [
              "'Hello World'"
            ]
          },
          "metadata": {
            "tags": []
          },
          "execution_count": 2
        }
      ]
    },
    {
      "cell_type": "code",
      "metadata": {
        "id": "1T2GdysV367o",
        "colab_type": "code",
        "outputId": "f69ad217-cc19-4a3a-f24c-683f374837e4",
        "colab": {
          "base_uri": "https://localhost:8080/",
          "height": 34
        }
      },
      "source": [
        "# Print the object\n",
        "print(s)"
      ],
      "execution_count": 0,
      "outputs": [
        {
          "output_type": "stream",
          "text": [
            "Hello World\n"
          ],
          "name": "stdout"
        }
      ]
    },
    {
      "cell_type": "code",
      "metadata": {
        "id": "a4a9vW9X39sB",
        "colab_type": "code",
        "outputId": "c58efb10-9472-4490-d1b3-fef292b0d25d",
        "colab": {
          "base_uri": "https://localhost:8080/",
          "height": 34
        }
      },
      "source": [
        "# Show first element (in this case a letter)\n",
        "s[0]"
      ],
      "execution_count": 0,
      "outputs": [
        {
          "output_type": "execute_result",
          "data": {
            "text/plain": [
              "'H'"
            ]
          },
          "metadata": {
            "tags": []
          },
          "execution_count": 4
        }
      ]
    },
    {
      "cell_type": "markdown",
      "metadata": {
        "id": "BqJ4vrT74GkS",
        "colab_type": "text"
      },
      "source": [
        "We can use a : to perform slicing which grabs everything up to a designated point. For example:"
      ]
    },
    {
      "cell_type": "code",
      "metadata": {
        "id": "FebZPBIn4KP2",
        "colab_type": "code",
        "outputId": "b40b412d-1358-46fc-ff55-4b49c2d29735",
        "colab": {
          "base_uri": "https://localhost:8080/",
          "height": 34
        }
      },
      "source": [
        "# Grab everything past the first term all the way to the length of s which is len(s)\n",
        "s[1:]"
      ],
      "execution_count": 0,
      "outputs": [
        {
          "output_type": "execute_result",
          "data": {
            "text/plain": [
              "'ello World'"
            ]
          },
          "metadata": {
            "tags": []
          },
          "execution_count": 5
        }
      ]
    },
    {
      "cell_type": "code",
      "metadata": {
        "id": "WHoNhL554MvV",
        "colab_type": "code",
        "outputId": "6d73f25b-0bf0-424b-8f23-e736192a7345",
        "colab": {
          "base_uri": "https://localhost:8080/",
          "height": 34
        }
      },
      "source": [
        "# Grab everything UP TO the 3rd index\n",
        "s[:3]"
      ],
      "execution_count": 0,
      "outputs": [
        {
          "output_type": "execute_result",
          "data": {
            "text/plain": [
              "'Hel'"
            ]
          },
          "metadata": {
            "tags": []
          },
          "execution_count": 6
        }
      ]
    },
    {
      "cell_type": "markdown",
      "metadata": {
        "id": "ZNqL3nBy4X-B",
        "colab_type": "text"
      },
      "source": [
        "Note the above slicing. Here we're telling Python to grab everything from 0 up to 3. It doesn't include the 3rd index. You'll notice this a lot in Python, where statements and are usually in the context of \"up to, but not including\"."
      ]
    },
    {
      "cell_type": "code",
      "metadata": {
        "id": "W8LwZUyz4eJG",
        "colab_type": "code",
        "outputId": "9af20c11-d2a9-479a-c92f-35c5e1d91961",
        "colab": {
          "base_uri": "https://localhost:8080/",
          "height": 34
        }
      },
      "source": [
        "#Everything\n",
        "s[:]"
      ],
      "execution_count": 0,
      "outputs": [
        {
          "output_type": "execute_result",
          "data": {
            "text/plain": [
              "'Hello World'"
            ]
          },
          "metadata": {
            "tags": []
          },
          "execution_count": 7
        }
      ]
    },
    {
      "cell_type": "code",
      "metadata": {
        "id": "ByiGqkU44e2U",
        "colab_type": "code",
        "outputId": "9a722f1d-c2d6-4030-806a-20ba7c46eeb5",
        "colab": {
          "base_uri": "https://localhost:8080/",
          "height": 34
        }
      },
      "source": [
        "# Last letter (one index behind 0 so it loops back around)\n",
        "s[-1]"
      ],
      "execution_count": 0,
      "outputs": [
        {
          "output_type": "execute_result",
          "data": {
            "text/plain": [
              "'d'"
            ]
          },
          "metadata": {
            "tags": []
          },
          "execution_count": 8
        }
      ]
    },
    {
      "cell_type": "markdown",
      "metadata": {
        "id": "OelSeiO44orx",
        "colab_type": "text"
      },
      "source": [
        "We can also use index and slice notation to grab elements of a sequence by a specified step size (the default is 1). For instance we can use two colons in a row and then a number specifying the frequency to grab elements. For example:"
      ]
    },
    {
      "cell_type": "code",
      "metadata": {
        "id": "bCdJPtU04vOj",
        "colab_type": "code",
        "outputId": "198eda6d-773f-4c28-d54e-fd3b7c47a344",
        "colab": {
          "base_uri": "https://localhost:8080/",
          "height": 34
        }
      },
      "source": [
        "# Grab everything, but go in step sizes of 2\n",
        "s[::2]"
      ],
      "execution_count": 0,
      "outputs": [
        {
          "output_type": "execute_result",
          "data": {
            "text/plain": [
              "'HloWrd'"
            ]
          },
          "metadata": {
            "tags": []
          },
          "execution_count": 9
        }
      ]
    },
    {
      "cell_type": "markdown",
      "metadata": {
        "id": "gxnC7mxg40Hj",
        "colab_type": "text"
      },
      "source": [
        "Can you think of a method to reverse the string using this ? "
      ]
    },
    {
      "cell_type": "markdown",
      "metadata": {
        "id": "6mB759Bi49EA",
        "colab_type": "text"
      },
      "source": [
        "**STRING PROPERTIES**"
      ]
    },
    {
      "cell_type": "markdown",
      "metadata": {
        "id": "KIifNfgy5BCO",
        "colab_type": "text"
      },
      "source": [
        "t's important to note that strings have an important property known as immutability. This means that once a string is created, the elements within it can not be changed or replaced. For example:"
      ]
    },
    {
      "cell_type": "code",
      "metadata": {
        "id": "sB5bkCHE5DM2",
        "colab_type": "code",
        "outputId": "d193d620-ff34-455b-966c-dbe38a87021e",
        "colab": {
          "base_uri": "https://localhost:8080/",
          "height": 34
        }
      },
      "source": [
        "s"
      ],
      "execution_count": 0,
      "outputs": [
        {
          "output_type": "execute_result",
          "data": {
            "text/plain": [
              "'Hello World'"
            ]
          },
          "metadata": {
            "tags": []
          },
          "execution_count": 10
        }
      ]
    },
    {
      "cell_type": "code",
      "metadata": {
        "id": "pq3Qi6KL5FMX",
        "colab_type": "code",
        "outputId": "69a2636f-169c-4155-bf12-2d664198fd2c",
        "colab": {
          "base_uri": "https://localhost:8080/",
          "height": 34
        }
      },
      "source": [
        " # Concatenate strings!\n",
        "s + ' concatenate me!'"
      ],
      "execution_count": 0,
      "outputs": [
        {
          "output_type": "execute_result",
          "data": {
            "text/plain": [
              "'Hello World concatenate me!'"
            ]
          },
          "metadata": {
            "tags": []
          },
          "execution_count": 12
        }
      ]
    },
    {
      "cell_type": "code",
      "metadata": {
        "id": "pxtUAuug5Jxo",
        "colab_type": "code",
        "colab": {}
      },
      "source": [
        "# We can reassign s completely though!\n",
        "s = s + ' concatenate me!'"
      ],
      "execution_count": 0,
      "outputs": []
    },
    {
      "cell_type": "code",
      "metadata": {
        "id": "1ieh2SPq5SsZ",
        "colab_type": "code",
        "outputId": "17d18533-7853-4216-c6d6-4f21d0568c5f",
        "colab": {
          "base_uri": "https://localhost:8080/",
          "height": 34
        }
      },
      "source": [
        "s"
      ],
      "execution_count": 0,
      "outputs": [
        {
          "output_type": "execute_result",
          "data": {
            "text/plain": [
              "'Hello World concatenate me!'"
            ]
          },
          "metadata": {
            "tags": []
          },
          "execution_count": 14
        }
      ]
    },
    {
      "cell_type": "markdown",
      "metadata": {
        "id": "ZqaFvLZY5XZD",
        "colab_type": "text"
      },
      "source": [
        "We can use the multiplication symbol to create repetition!"
      ]
    },
    {
      "cell_type": "code",
      "metadata": {
        "id": "BrMg1Jsr5aaJ",
        "colab_type": "code",
        "colab": {}
      },
      "source": [
        "letter = 'z'"
      ],
      "execution_count": 0,
      "outputs": []
    },
    {
      "cell_type": "code",
      "metadata": {
        "id": "_xyl8op-5cTi",
        "colab_type": "code",
        "outputId": "3125354e-3528-4794-b1bf-78bcd6927727",
        "colab": {
          "base_uri": "https://localhost:8080/",
          "height": 34
        }
      },
      "source": [
        "\n",
        "letter*10"
      ],
      "execution_count": 0,
      "outputs": [
        {
          "output_type": "execute_result",
          "data": {
            "text/plain": [
              "'zzzzzzzzzz'"
            ]
          },
          "metadata": {
            "tags": []
          },
          "execution_count": 17
        }
      ]
    },
    {
      "cell_type": "code",
      "metadata": {
        "id": "BOKkzmwX5qxU",
        "colab_type": "code",
        "outputId": "85702a24-211b-43b4-bb2a-4bd86ced81ff",
        "colab": {
          "base_uri": "https://localhost:8080/",
          "height": 34
        }
      },
      "source": [
        "# Upper Case a string\n",
        "s.upper()"
      ],
      "execution_count": 0,
      "outputs": [
        {
          "output_type": "execute_result",
          "data": {
            "text/plain": [
              "'HELLO WORLD CONCATENATE ME!'"
            ]
          },
          "metadata": {
            "tags": []
          },
          "execution_count": 18
        }
      ]
    },
    {
      "cell_type": "code",
      "metadata": {
        "id": "h3CPJpXf5rgK",
        "colab_type": "code",
        "outputId": "0d580ffd-3b2d-4505-f28b-f26a24a51a5e",
        "colab": {
          "base_uri": "https://localhost:8080/",
          "height": 34
        }
      },
      "source": [
        "# Lower case\n",
        "s.lower()"
      ],
      "execution_count": 0,
      "outputs": [
        {
          "output_type": "execute_result",
          "data": {
            "text/plain": [
              "'hello world concatenate me!'"
            ]
          },
          "metadata": {
            "tags": []
          },
          "execution_count": 19
        }
      ]
    },
    {
      "cell_type": "code",
      "metadata": {
        "id": "SsoUBmbC5u6r",
        "colab_type": "code",
        "outputId": "c5a68b2b-7087-40fd-b124-6fc8030f552e",
        "colab": {
          "base_uri": "https://localhost:8080/",
          "height": 34
        }
      },
      "source": [
        "# Split a string by blank space (this is the default)\n",
        "s.split()"
      ],
      "execution_count": 0,
      "outputs": [
        {
          "output_type": "execute_result",
          "data": {
            "text/plain": [
              "['Hello', 'World', 'concatenate', 'me!']"
            ]
          },
          "metadata": {
            "tags": []
          },
          "execution_count": 20
        }
      ]
    },
    {
      "cell_type": "code",
      "metadata": {
        "id": "qHqK_3Kb5w9o",
        "colab_type": "code",
        "outputId": "7db149c7-3dbf-4583-c978-17e5b67620e0",
        "colab": {
          "base_uri": "https://localhost:8080/",
          "height": 34
        }
      },
      "source": [
        "# Split by a specific element (doesn't include the element that was split on)\n",
        "s.split('W')\n"
      ],
      "execution_count": 0,
      "outputs": [
        {
          "output_type": "execute_result",
          "data": {
            "text/plain": [
              "['Hello ', 'orld concatenate me!']"
            ]
          },
          "metadata": {
            "tags": []
          },
          "execution_count": 21
        }
      ]
    },
    {
      "cell_type": "markdown",
      "metadata": {
        "id": "wYk8Yi0wVDKB",
        "colab_type": "text"
      },
      "source": [
        "**Formatting with placeholders**"
      ]
    },
    {
      "cell_type": "markdown",
      "metadata": {
        "id": "AggePqW1Vhb7",
        "colab_type": "text"
      },
      "source": [
        "You can use %s to inject strings into your print statements. The modulo % is referred to as a \"string formatting operator\"."
      ]
    },
    {
      "cell_type": "code",
      "metadata": {
        "id": "JKep4XljVqPo",
        "colab_type": "code",
        "outputId": "311d5634-14bd-468a-d5b0-9ba6a9313ddb",
        "colab": {
          "base_uri": "https://localhost:8080/",
          "height": 34
        }
      },
      "source": [
        "print(\"I'm going to inject %s text here, and %s text here.\" %('some','more'))"
      ],
      "execution_count": 0,
      "outputs": [
        {
          "output_type": "stream",
          "text": [
            "I'm going to inject some text here, and more text here.\n"
          ],
          "name": "stdout"
        }
      ]
    },
    {
      "cell_type": "code",
      "metadata": {
        "id": "ztAnNxNWVtWu",
        "colab_type": "code",
        "outputId": "0c5d630c-9cf2-4c3d-a314-065a7303930f",
        "colab": {
          "base_uri": "https://localhost:8080/",
          "height": 34
        }
      },
      "source": [
        "x, y = 'some', 'more'\n",
        "print(\"I'm going to inject %s text here, and %s text here.\"%(x,y))"
      ],
      "execution_count": 0,
      "outputs": [
        {
          "output_type": "stream",
          "text": [
            "I'm going to inject some text here, and more text here.\n"
          ],
          "name": "stdout"
        }
      ]
    },
    {
      "cell_type": "markdown",
      "metadata": {
        "id": "flf4vTucWRZF",
        "colab_type": "text"
      },
      "source": [
        "The %s operator converts whatever it sees into a string, including integers and floats. The %d operator converts numbers to integers first, without rounding. Note the difference below:"
      ]
    },
    {
      "cell_type": "code",
      "metadata": {
        "id": "UISXWbH_WUGl",
        "colab_type": "code",
        "outputId": "b88b7e96-6dc7-4c5d-dfb5-75b0f4bb415c",
        "colab": {
          "base_uri": "https://localhost:8080/",
          "height": 51
        }
      },
      "source": [
        "print('I wrote %s programs today.' %3.75)\n",
        "print('I wrote %d programs today.' %3.75)"
      ],
      "execution_count": 0,
      "outputs": [
        {
          "output_type": "stream",
          "text": [
            "I wrote 3.75 programs today.\n",
            "I wrote 3 programs today.\n"
          ],
          "name": "stdout"
        }
      ]
    },
    {
      "cell_type": "markdown",
      "metadata": {
        "id": "NXXwRzyW8h2Q",
        "colab_type": "text"
      },
      "source": [
        "**LIST**"
      ]
    },
    {
      "cell_type": "markdown",
      "metadata": {
        "id": "1vsv3R0REST-",
        "colab_type": "text"
      },
      "source": [
        "\n",
        "Lists\n",
        "Earlier when discussing strings we introduced the concept of a sequence in Python. Lists can be thought of the most general version of a sequence in Python. Unlike strings, they are mutable, meaning the elements inside a list can be changed!\n",
        "\n",
        "In this section we will learn about:\n",
        "\n",
        "1.) Creating lists\n",
        "2.) Indexing and Slicing Lists\n",
        "3.) Basic List Methods\n",
        "4.) Nesting Lists\n",
        "5.) Introduction to List Comprehensions\n",
        "\n",
        "Lists are constructed with brackets [] and commas separating every element in the list.\n",
        "\n",
        "Let's go ahead and see how we can construct lists!"
      ]
    },
    {
      "cell_type": "code",
      "metadata": {
        "id": "tyjz9RF3EU25",
        "colab_type": "code",
        "colab": {}
      },
      "source": [
        "# Assign a list to an variable named my_list\n",
        "my_list = [1,2,3]"
      ],
      "execution_count": 0,
      "outputs": []
    },
    {
      "cell_type": "markdown",
      "metadata": {
        "id": "3q1fyiQ6EZpD",
        "colab_type": "text"
      },
      "source": [
        "We just created a list of integers, but lists can actually hold different object types. For example:"
      ]
    },
    {
      "cell_type": "code",
      "metadata": {
        "id": "wi268M_REbcb",
        "colab_type": "code",
        "colab": {}
      },
      "source": [
        "my_list = ['A string',23,100.232,'o']"
      ],
      "execution_count": 0,
      "outputs": []
    },
    {
      "cell_type": "code",
      "metadata": {
        "id": "8o3BY3q5Ed4o",
        "colab_type": "code",
        "outputId": "05ae9f9b-d136-4ef2-f22c-5a838d01eb1d",
        "colab": {
          "base_uri": "https://localhost:8080/",
          "height": 34
        }
      },
      "source": [
        "len(my_list)"
      ],
      "execution_count": 0,
      "outputs": [
        {
          "output_type": "execute_result",
          "data": {
            "text/plain": [
              "4"
            ]
          },
          "metadata": {
            "tags": []
          },
          "execution_count": 24
        }
      ]
    },
    {
      "cell_type": "markdown",
      "metadata": {
        "id": "_5I-kworEkVY",
        "colab_type": "text"
      },
      "source": [
        "**Indexing and Slicing**"
      ]
    },
    {
      "cell_type": "markdown",
      "metadata": {
        "id": "3hMQHWSnEqlI",
        "colab_type": "text"
      },
      "source": [
        "Indexing and slicing work just like in strings. Let's make a new list to remind ourselves of how this works:"
      ]
    },
    {
      "cell_type": "code",
      "metadata": {
        "id": "EWxuIcL5EsaI",
        "colab_type": "code",
        "colab": {}
      },
      "source": [
        "my_list = ['one','two','three',4,5]"
      ],
      "execution_count": 0,
      "outputs": []
    },
    {
      "cell_type": "code",
      "metadata": {
        "id": "xz4c9o_lEupk",
        "colab_type": "code",
        "outputId": "311d283d-306e-4205-9d34-57deb0eb7529",
        "colab": {
          "base_uri": "https://localhost:8080/",
          "height": 34
        }
      },
      "source": [
        "# Grab element at index 0\n",
        "my_list[0]"
      ],
      "execution_count": 0,
      "outputs": [
        {
          "output_type": "execute_result",
          "data": {
            "text/plain": [
              "'one'"
            ]
          },
          "metadata": {
            "tags": []
          },
          "execution_count": 26
        }
      ]
    },
    {
      "cell_type": "code",
      "metadata": {
        "id": "yYChoSuyEwQA",
        "colab_type": "code",
        "outputId": "34324bed-0637-4591-f8c3-f6b0a2bbd0ad",
        "colab": {
          "base_uri": "https://localhost:8080/",
          "height": 34
        }
      },
      "source": [
        "# Grab index 1 and everything past it\n",
        "my_list[1:]"
      ],
      "execution_count": 0,
      "outputs": [
        {
          "output_type": "execute_result",
          "data": {
            "text/plain": [
              "['two', 'three', 4, 5]"
            ]
          },
          "metadata": {
            "tags": []
          },
          "execution_count": 27
        }
      ]
    },
    {
      "cell_type": "code",
      "metadata": {
        "id": "duRSuYucEzH7",
        "colab_type": "code",
        "outputId": "45364bb8-03aa-4541-88ca-62d375ffb0c2",
        "colab": {
          "base_uri": "https://localhost:8080/",
          "height": 34
        }
      },
      "source": [
        "# Grab everything UP TO index 3\n",
        "my_list[:3]"
      ],
      "execution_count": 0,
      "outputs": [
        {
          "output_type": "execute_result",
          "data": {
            "text/plain": [
              "['one', 'two', 'three']"
            ]
          },
          "metadata": {
            "tags": []
          },
          "execution_count": 28
        }
      ]
    },
    {
      "cell_type": "markdown",
      "metadata": {
        "id": "94lAK_ZBE5E6",
        "colab_type": "text"
      },
      "source": [
        "\n",
        "We can also use + to concatenate lists, just like we did for strings."
      ]
    },
    {
      "cell_type": "code",
      "metadata": {
        "id": "eO7l3jbqE7EE",
        "colab_type": "code",
        "outputId": "e012edbe-2262-4a82-fec7-9dcc45f6c9bb",
        "colab": {
          "base_uri": "https://localhost:8080/",
          "height": 34
        }
      },
      "source": [
        "my_list + ['new item']"
      ],
      "execution_count": 0,
      "outputs": [
        {
          "output_type": "execute_result",
          "data": {
            "text/plain": [
              "['one', 'two', 'three', 4, 5, 'new item']"
            ]
          },
          "metadata": {
            "tags": []
          },
          "execution_count": 29
        }
      ]
    },
    {
      "cell_type": "markdown",
      "metadata": {
        "id": "JZwjVm-pFBgI",
        "colab_type": "text"
      },
      "source": [
        "Note: This doesn't actually change the original list!"
      ]
    },
    {
      "cell_type": "code",
      "metadata": {
        "id": "SPmYGwv9FCWH",
        "colab_type": "code",
        "outputId": "5b958806-e57c-4990-83b2-20b1f3506d8d",
        "colab": {
          "base_uri": "https://localhost:8080/",
          "height": 34
        }
      },
      "source": [
        "# Make the list double\n",
        "my_list * 2"
      ],
      "execution_count": 0,
      "outputs": [
        {
          "output_type": "execute_result",
          "data": {
            "text/plain": [
              "['one', 'two', 'three', 4, 5, 'one', 'two', 'three', 4, 5]"
            ]
          },
          "metadata": {
            "tags": []
          },
          "execution_count": 30
        }
      ]
    },
    {
      "cell_type": "markdown",
      "metadata": {
        "id": "ho_6JeRQFJdJ",
        "colab_type": "text"
      },
      "source": [
        "**BASIC LIST METHODS**"
      ]
    },
    {
      "cell_type": "markdown",
      "metadata": {
        "id": "KKAF8fIgFTse",
        "colab_type": "text"
      },
      "source": [
        "Lists in Python however, tend to be more flexible than arrays in other languages for a two good reasons: they have no fixed size (meaning we don't have to specify how big a list will be), and they have no fixed type constraint (like we've seen above)."
      ]
    },
    {
      "cell_type": "code",
      "metadata": {
        "id": "9RTx9ZHLFUaH",
        "colab_type": "code",
        "colab": {}
      },
      "source": [
        "# Create a new list\n",
        "list1 = [1,2,3]"
      ],
      "execution_count": 0,
      "outputs": []
    },
    {
      "cell_type": "markdown",
      "metadata": {
        "id": "_slUvxjNFbHO",
        "colab_type": "text"
      },
      "source": [
        "Use the append method to permanently add an item to the end of a list:"
      ]
    },
    {
      "cell_type": "code",
      "metadata": {
        "id": "grxbBIb0Fc-z",
        "colab_type": "code",
        "colab": {}
      },
      "source": [
        "# Append\n",
        "list1.append('append me!')"
      ],
      "execution_count": 0,
      "outputs": []
    },
    {
      "cell_type": "code",
      "metadata": {
        "id": "RRyqnbXkFex0",
        "colab_type": "code",
        "outputId": "09080a80-67a8-4cbb-9005-84b318e870b0",
        "colab": {
          "base_uri": "https://localhost:8080/",
          "height": 34
        }
      },
      "source": [
        "list1"
      ],
      "execution_count": 0,
      "outputs": [
        {
          "output_type": "execute_result",
          "data": {
            "text/plain": [
              "[1, 2, 3, 'append me!']"
            ]
          },
          "metadata": {
            "tags": []
          },
          "execution_count": 33
        }
      ]
    },
    {
      "cell_type": "markdown",
      "metadata": {
        "id": "hq9Sy2l_Fnfh",
        "colab_type": "text"
      },
      "source": [
        "Use pop to \"pop off\" an item from the list. By default pop takes off the last index, but you can also specify which index to pop off. Let's see an example:"
      ]
    },
    {
      "cell_type": "code",
      "metadata": {
        "id": "ljOLtiWNFoDj",
        "colab_type": "code",
        "outputId": "fb19c492-f928-4fbb-c42b-4c32c40bf8c1",
        "colab": {
          "base_uri": "https://localhost:8080/",
          "height": 34
        }
      },
      "source": [
        "# Pop off the 0 indexed item\n",
        "list1.pop(0)"
      ],
      "execution_count": 0,
      "outputs": [
        {
          "output_type": "execute_result",
          "data": {
            "text/plain": [
              "1"
            ]
          },
          "metadata": {
            "tags": []
          },
          "execution_count": 34
        }
      ]
    },
    {
      "cell_type": "markdown",
      "metadata": {
        "id": "To2ypW2zFwee",
        "colab_type": "text"
      },
      "source": [
        "We can use the sort method and the reverse methods to also effect your lists:"
      ]
    },
    {
      "cell_type": "code",
      "metadata": {
        "id": "rcR1Cp5cFyrK",
        "colab_type": "code",
        "colab": {}
      },
      "source": [
        "new_list = ['a','e','x','b','c']"
      ],
      "execution_count": 0,
      "outputs": []
    },
    {
      "cell_type": "code",
      "metadata": {
        "id": "6SrDPyEqF3sF",
        "colab_type": "code",
        "colab": {}
      },
      "source": [
        "new_list.reverse()"
      ],
      "execution_count": 0,
      "outputs": []
    },
    {
      "cell_type": "code",
      "metadata": {
        "id": "jmmpSEGwF73T",
        "colab_type": "code",
        "outputId": "3917bf26-8a60-4359-e5ab-b4b7d3b3b136",
        "colab": {
          "base_uri": "https://localhost:8080/",
          "height": 34
        }
      },
      "source": [
        "new_list"
      ],
      "execution_count": 0,
      "outputs": [
        {
          "output_type": "execute_result",
          "data": {
            "text/plain": [
              "['a', 'e', 'x', 'b', 'c']"
            ]
          },
          "metadata": {
            "tags": []
          },
          "execution_count": 38
        }
      ]
    },
    {
      "cell_type": "code",
      "metadata": {
        "id": "FA4A0u3rF9_h",
        "colab_type": "code",
        "colab": {}
      },
      "source": [
        "new_list.sort()"
      ],
      "execution_count": 0,
      "outputs": []
    },
    {
      "cell_type": "code",
      "metadata": {
        "id": "FtkNoDUMGCIP",
        "colab_type": "code",
        "outputId": "182693e2-ad5e-42ad-ae44-e36640c7ecd6",
        "colab": {
          "base_uri": "https://localhost:8080/",
          "height": 34
        }
      },
      "source": [
        "new_list"
      ],
      "execution_count": 0,
      "outputs": [
        {
          "output_type": "execute_result",
          "data": {
            "text/plain": [
              "['a', 'b', 'c', 'e', 'x']"
            ]
          },
          "metadata": {
            "tags": []
          },
          "execution_count": 40
        }
      ]
    },
    {
      "cell_type": "markdown",
      "metadata": {
        "id": "IGRAQ5lzGLjX",
        "colab_type": "text"
      },
      "source": [
        "**Nesting Lists**"
      ]
    },
    {
      "cell_type": "markdown",
      "metadata": {
        "id": "MvLVsV3yGR-1",
        "colab_type": "text"
      },
      "source": [
        "A great feature of of Python data structures is that they support nesting. This means we can have data structures within data structures. For example: A list inside a list."
      ]
    },
    {
      "cell_type": "code",
      "metadata": {
        "id": "Itk7ABqaGSc5",
        "colab_type": "code",
        "colab": {}
      },
      "source": [
        "# Let's make three lists\n",
        "lst_1=[1,2,3]\n",
        "lst_2=[4,5,6]\n",
        "lst_3=[7,8,9]\n",
        "\n",
        "# Make a list of lists to form a matrix\n",
        "matrix = [lst_1,lst_2,lst_3]"
      ],
      "execution_count": 0,
      "outputs": []
    },
    {
      "cell_type": "code",
      "metadata": {
        "id": "uyyRqYSVGUvM",
        "colab_type": "code",
        "outputId": "0ce816d5-9453-48b8-e3ea-95303481102e",
        "colab": {
          "base_uri": "https://localhost:8080/",
          "height": 34
        }
      },
      "source": [
        "matrix"
      ],
      "execution_count": 0,
      "outputs": [
        {
          "output_type": "execute_result",
          "data": {
            "text/plain": [
              "[[1, 2, 3], [4, 5, 6], [7, 8, 9]]"
            ]
          },
          "metadata": {
            "tags": []
          },
          "execution_count": 42
        }
      ]
    },
    {
      "cell_type": "markdown",
      "metadata": {
        "id": "7LId0oocGZji",
        "colab_type": "text"
      },
      "source": [
        "We can again use indexing to grab elements, but now there are two levels for the index. The items in the matrix object, and then the items inside that list!"
      ]
    },
    {
      "cell_type": "code",
      "metadata": {
        "id": "XdoKUlZbGaBc",
        "colab_type": "code",
        "outputId": "4e4eccb3-0e7d-4038-b5f2-619eca6e0f3e",
        "colab": {
          "base_uri": "https://localhost:8080/",
          "height": 34
        }
      },
      "source": [
        "matrix[0]"
      ],
      "execution_count": 0,
      "outputs": [
        {
          "output_type": "execute_result",
          "data": {
            "text/plain": [
              "[1, 2, 3]"
            ]
          },
          "metadata": {
            "tags": []
          },
          "execution_count": 43
        }
      ]
    },
    {
      "cell_type": "code",
      "metadata": {
        "id": "CoKHyFpsGdMN",
        "colab_type": "code",
        "outputId": "ae3d1904-122d-43a6-e861-99be7f0928d6",
        "colab": {
          "base_uri": "https://localhost:8080/",
          "height": 34
        }
      },
      "source": [
        "matrix[0][0]"
      ],
      "execution_count": 0,
      "outputs": [
        {
          "output_type": "execute_result",
          "data": {
            "text/plain": [
              "1"
            ]
          },
          "metadata": {
            "tags": []
          },
          "execution_count": 44
        }
      ]
    },
    {
      "cell_type": "markdown",
      "metadata": {
        "id": "CS61ZIA-HSh4",
        "colab_type": "text"
      },
      "source": [
        "**DICTIONARIES**"
      ]
    },
    {
      "cell_type": "markdown",
      "metadata": {
        "id": "fKMJ8WADHeS2",
        "colab_type": "text"
      },
      "source": [
        "We've been learning about sequences in Python but now we're going to switch gears and learn about mappings in Python. If you're familiar with other languages you can think of these Dictionaries as hash tables.\n",
        "\n",
        "This section will serve as a brief introduction to dictionaries and consist of:\n",
        "\n",
        "1.) Constructing a Dictionary\n",
        "2.) Accessing objects from a dictionary\n",
        "3.) Nesting Dictionaries\n",
        "4.) Basic Dictionary Methods\n",
        "\n",
        "So what are mappings? Mappings are a collection of objects that are stored by a key, unlike a sequence that stored objects by their relative position. This is an important distinction, since mappings won't retain order since they have objects defined by a key.\n",
        "\n",
        "A Python dictionary consists of a key and then an associated value. That value can be almost any Python object."
      ]
    },
    {
      "cell_type": "code",
      "metadata": {
        "id": "FwSPf_MwHey9",
        "colab_type": "code",
        "colab": {}
      },
      "source": [
        " #Make a dictionary with {} and : to signify a key and a value\n",
        "my_dict = {'key1':'value1','key2':'value2'}"
      ],
      "execution_count": 0,
      "outputs": []
    },
    {
      "cell_type": "code",
      "metadata": {
        "id": "pdtGHv-tHo4_",
        "colab_type": "code",
        "outputId": "1e0ebd08-1b26-4cef-f6d0-12fbeb8e200b",
        "colab": {
          "base_uri": "https://localhost:8080/",
          "height": 34
        }
      },
      "source": [
        "# Call values by their key\n",
        "my_dict['key2']"
      ],
      "execution_count": 0,
      "outputs": [
        {
          "output_type": "execute_result",
          "data": {
            "text/plain": [
              "'value2'"
            ]
          },
          "metadata": {
            "tags": []
          },
          "execution_count": 47
        }
      ]
    },
    {
      "cell_type": "markdown",
      "metadata": {
        "id": "ItgqNAWxHxef",
        "colab_type": "text"
      },
      "source": [
        "Its important to note that dictionaries are very flexible in the data types they can hold. For example:"
      ]
    },
    {
      "cell_type": "code",
      "metadata": {
        "id": "_378q7YHHx6h",
        "colab_type": "code",
        "colab": {}
      },
      "source": [
        "my_dict = {'key1':123,'key2':[12,23,33],'key3':['item0','item1','item2']}"
      ],
      "execution_count": 0,
      "outputs": []
    },
    {
      "cell_type": "code",
      "metadata": {
        "id": "RJcdDOYCH3I4",
        "colab_type": "code",
        "outputId": "f5d72bfc-c3fa-4a59-a6d7-c60176e1eb9e",
        "colab": {
          "base_uri": "https://localhost:8080/",
          "height": 34
        }
      },
      "source": [
        "my_dict['key3']"
      ],
      "execution_count": 0,
      "outputs": [
        {
          "output_type": "execute_result",
          "data": {
            "text/plain": [
              "['item0', 'item1', 'item2']"
            ]
          },
          "metadata": {
            "tags": []
          },
          "execution_count": 49
        }
      ]
    },
    {
      "cell_type": "code",
      "metadata": {
        "id": "PJj1SjPrH4yG",
        "colab_type": "code",
        "outputId": "1f3039e2-2ca1-4e52-84fb-f468f8648e58",
        "colab": {
          "base_uri": "https://localhost:8080/",
          "height": 34
        }
      },
      "source": [
        "my_dict['key3'][0]"
      ],
      "execution_count": 0,
      "outputs": [
        {
          "output_type": "execute_result",
          "data": {
            "text/plain": [
              "'item0'"
            ]
          },
          "metadata": {
            "tags": []
          },
          "execution_count": 50
        }
      ]
    },
    {
      "cell_type": "code",
      "metadata": {
        "id": "LHJK5sNnH6-Q",
        "colab_type": "code",
        "outputId": "758a0d1d-9da8-410e-f958-903dd1c16130",
        "colab": {
          "base_uri": "https://localhost:8080/",
          "height": 34
        }
      },
      "source": [
        "my_dict['key1']"
      ],
      "execution_count": 0,
      "outputs": [
        {
          "output_type": "execute_result",
          "data": {
            "text/plain": [
              "123"
            ]
          },
          "metadata": {
            "tags": []
          },
          "execution_count": 51
        }
      ]
    },
    {
      "cell_type": "code",
      "metadata": {
        "id": "cYlfO_OHIBxX",
        "colab_type": "code",
        "colab": {}
      },
      "source": [
        "# Subtract 123 from the value\n",
        "my_dict['key1'] = my_dict['key1'] - 123"
      ],
      "execution_count": 0,
      "outputs": []
    },
    {
      "cell_type": "code",
      "metadata": {
        "id": "A0uAAft1IIm-",
        "colab_type": "code",
        "outputId": "4ab89267-ee99-4269-d8b9-e755d5fcf168",
        "colab": {
          "base_uri": "https://localhost:8080/",
          "height": 34
        }
      },
      "source": [
        "my_dict['key1']"
      ],
      "execution_count": 0,
      "outputs": [
        {
          "output_type": "execute_result",
          "data": {
            "text/plain": [
              "0"
            ]
          },
          "metadata": {
            "tags": []
          },
          "execution_count": 53
        }
      ]
    },
    {
      "cell_type": "markdown",
      "metadata": {
        "id": "kE4s8-IrIXZb",
        "colab_type": "text"
      },
      "source": [
        "We can also create keys by assignment. For instance if we started off with an empty dictionary, we could continually add to it:"
      ]
    },
    {
      "cell_type": "code",
      "metadata": {
        "id": "NRus-XIvIX9y",
        "colab_type": "code",
        "colab": {}
      },
      "source": [
        "# Create a new dictionary\n",
        "d = {}"
      ],
      "execution_count": 0,
      "outputs": []
    },
    {
      "cell_type": "code",
      "metadata": {
        "id": "Yz5OTn4AIZXL",
        "colab_type": "code",
        "colab": {}
      },
      "source": [
        "\n",
        "# Create a new key through assignment\n",
        "d['animal'] = 'Dog'"
      ],
      "execution_count": 0,
      "outputs": []
    },
    {
      "cell_type": "code",
      "metadata": {
        "id": "Znaa9UTPIa6L",
        "colab_type": "code",
        "colab": {}
      },
      "source": [
        "# Can do this with any object\n",
        "d['answer'] = 42"
      ],
      "execution_count": 0,
      "outputs": []
    },
    {
      "cell_type": "code",
      "metadata": {
        "id": "gQKK202FIchN",
        "colab_type": "code",
        "outputId": "227a2b4b-28d9-4beb-f487-02d26a893197",
        "colab": {
          "base_uri": "https://localhost:8080/",
          "height": 34
        }
      },
      "source": [
        "d"
      ],
      "execution_count": 0,
      "outputs": [
        {
          "output_type": "execute_result",
          "data": {
            "text/plain": [
              "{'animal': 'Dog', 'answer': 42}"
            ]
          },
          "metadata": {
            "tags": []
          },
          "execution_count": 57
        }
      ]
    },
    {
      "cell_type": "code",
      "metadata": {
        "id": "Uoarg4p5IeHD",
        "colab_type": "code",
        "colab": {}
      },
      "source": [
        ""
      ],
      "execution_count": 0,
      "outputs": []
    },
    {
      "cell_type": "markdown",
      "metadata": {
        "id": "_Ym5d5eaIfkn",
        "colab_type": "text"
      },
      "source": [
        "**Nesting with Dictionaries**"
      ]
    },
    {
      "cell_type": "code",
      "metadata": {
        "id": "APYol6C-Ih2b",
        "colab_type": "code",
        "colab": {}
      },
      "source": [
        "# Dictionary nested inside a dictionary nested inside a dictionary\n",
        "d = {'key1':{'nestkey':{'subnestkey':'value'}}}"
      ],
      "execution_count": 0,
      "outputs": []
    },
    {
      "cell_type": "code",
      "metadata": {
        "id": "HaRyx8hXIl_A",
        "colab_type": "code",
        "outputId": "45065c72-55e1-426f-d08c-b618da3257f0",
        "colab": {
          "base_uri": "https://localhost:8080/",
          "height": 34
        }
      },
      "source": [
        "# Keep calling the keys\n",
        "d['key1']['nestkey']['subnestkey']"
      ],
      "execution_count": 0,
      "outputs": [
        {
          "output_type": "execute_result",
          "data": {
            "text/plain": [
              "'value'"
            ]
          },
          "metadata": {
            "tags": []
          },
          "execution_count": 59
        }
      ]
    },
    {
      "cell_type": "markdown",
      "metadata": {
        "id": "Mq6nc3iQI2yU",
        "colab_type": "text"
      },
      "source": [
        "**Dictionary Methods**"
      ]
    },
    {
      "cell_type": "code",
      "metadata": {
        "id": "MGo8a_LQI5_S",
        "colab_type": "code",
        "colab": {}
      },
      "source": [
        "# Create a typical dictionary\n",
        "d = {'key1':1,'key2':2,'key3':3}"
      ],
      "execution_count": 0,
      "outputs": []
    },
    {
      "cell_type": "code",
      "metadata": {
        "id": "w8oWbXolI_-d",
        "colab_type": "code",
        "outputId": "4e155070-677b-4c55-a049-50a5f84dd7fe",
        "colab": {
          "base_uri": "https://localhost:8080/",
          "height": 34
        }
      },
      "source": [
        "# Method to return a list of all keys \n",
        "d.keys()"
      ],
      "execution_count": 0,
      "outputs": [
        {
          "output_type": "execute_result",
          "data": {
            "text/plain": [
              "dict_keys(['key1', 'key2', 'key3'])"
            ]
          },
          "metadata": {
            "tags": []
          },
          "execution_count": 61
        }
      ]
    },
    {
      "cell_type": "code",
      "metadata": {
        "id": "vLRtcF8BJCwB",
        "colab_type": "code",
        "outputId": "6647d14e-5698-4b2e-b776-52e201ab9953",
        "colab": {
          "base_uri": "https://localhost:8080/",
          "height": 34
        }
      },
      "source": [
        "# Method to grab all values\n",
        "d.values()"
      ],
      "execution_count": 0,
      "outputs": [
        {
          "output_type": "execute_result",
          "data": {
            "text/plain": [
              "dict_values([1, 2, 3])"
            ]
          },
          "metadata": {
            "tags": []
          },
          "execution_count": 62
        }
      ]
    },
    {
      "cell_type": "code",
      "metadata": {
        "id": "vLwSa7wLJEfT",
        "colab_type": "code",
        "outputId": "e6851457-9997-403b-b48e-f4c0afa3064b",
        "colab": {
          "base_uri": "https://localhost:8080/",
          "height": 34
        }
      },
      "source": [
        "# Method to return tuples of all items  (we'll learn about tuples soon)\n",
        "d.items()"
      ],
      "execution_count": 0,
      "outputs": [
        {
          "output_type": "execute_result",
          "data": {
            "text/plain": [
              "dict_items([('key1', 1), ('key2', 2), ('key3', 3)])"
            ]
          },
          "metadata": {
            "tags": []
          },
          "execution_count": 63
        }
      ]
    },
    {
      "cell_type": "markdown",
      "metadata": {
        "id": "Mz-JtRd1JO9y",
        "colab_type": "text"
      },
      "source": [
        "**TUPLES**"
      ]
    },
    {
      "cell_type": "markdown",
      "metadata": {
        "id": "CQRj4Vm8JSzr",
        "colab_type": "text"
      },
      "source": [
        "\n",
        "Tuples\n",
        "In Python tuples are very similar to lists, however, unlike lists they are immutable meaning they can not be changed. You would use tuples to present things that shouldn't be changed, such as days of the week, or dates on a calendar.\n",
        "\n",
        "In this section, we will get a brief overview of the following:\n",
        "\n",
        "1.) Constructing Tuples\n",
        "2.) Basic Tuple Methods\n",
        "3.) Immutability"
      ]
    },
    {
      "cell_type": "markdown",
      "metadata": {
        "id": "YNlqQ4ptJV0G",
        "colab_type": "text"
      },
      "source": [
        "**Constructing Tuples**"
      ]
    },
    {
      "cell_type": "code",
      "metadata": {
        "id": "6qi6YQ6eJXtS",
        "colab_type": "code",
        "colab": {}
      },
      "source": [
        "# Create a tuple\n",
        "t = (1,2,3)"
      ],
      "execution_count": 0,
      "outputs": []
    },
    {
      "cell_type": "code",
      "metadata": {
        "id": "MW--8B8wJaLz",
        "colab_type": "code",
        "outputId": "dd00869c-0a3f-458b-cf71-c97935e237e7",
        "colab": {
          "base_uri": "https://localhost:8080/",
          "height": 34
        }
      },
      "source": [
        "# Check len just like a list\n",
        "len(t)"
      ],
      "execution_count": 0,
      "outputs": [
        {
          "output_type": "execute_result",
          "data": {
            "text/plain": [
              "3"
            ]
          },
          "metadata": {
            "tags": []
          },
          "execution_count": 65
        }
      ]
    },
    {
      "cell_type": "code",
      "metadata": {
        "id": "AhRGrM61JeOf",
        "colab_type": "code",
        "outputId": "7d6b11a3-c281-47f7-a5e8-54a31d99618a",
        "colab": {
          "base_uri": "https://localhost:8080/",
          "height": 34
        }
      },
      "source": [
        "# Can also mix object types\n",
        "t = ('one',2)\n",
        "\n",
        "# Show\n",
        "t"
      ],
      "execution_count": 0,
      "outputs": [
        {
          "output_type": "execute_result",
          "data": {
            "text/plain": [
              "('one', 2)"
            ]
          },
          "metadata": {
            "tags": []
          },
          "execution_count": 66
        }
      ]
    },
    {
      "cell_type": "code",
      "metadata": {
        "id": "6oWpoo3YJi8f",
        "colab_type": "code",
        "outputId": "060ca18f-b874-49c9-cbc4-84bfc00ebf6d",
        "colab": {
          "base_uri": "https://localhost:8080/",
          "height": 34
        }
      },
      "source": [
        "# Use indexing just like we did in lists\n",
        "t[0]"
      ],
      "execution_count": 0,
      "outputs": [
        {
          "output_type": "execute_result",
          "data": {
            "text/plain": [
              "'one'"
            ]
          },
          "metadata": {
            "tags": []
          },
          "execution_count": 67
        }
      ]
    },
    {
      "cell_type": "markdown",
      "metadata": {
        "id": "4jTdCamsJrM9",
        "colab_type": "text"
      },
      "source": [
        "**Immutability**"
      ]
    },
    {
      "cell_type": "markdown",
      "metadata": {
        "id": "rwW0e7mQJtzX",
        "colab_type": "text"
      },
      "source": [
        "We cannot change an element at any position like we did for lists . This is the difference between Lists and Tuples. Moreover we cannot add any extra elements after the tuple is made. Thus , once a tuple is formed it's size cannot grow, unlike that in lists "
      ]
    },
    {
      "cell_type": "markdown",
      "metadata": {
        "id": "vaemCF1kKGeT",
        "colab_type": "text"
      },
      "source": [
        "**When to use Tuples**"
      ]
    },
    {
      "cell_type": "markdown",
      "metadata": {
        "id": "0I_cUIKIKLNd",
        "colab_type": "text"
      },
      "source": [
        "You may be wondering, \"Why bother using tuples when they have fewer available methods?\" To be honest, tuples are not used as often as lists in programming, but are used when immutability is necessary. If in your program you are passing around an object and need to make sure it does not get changed, then a tuple becomes your solution. It provides a convenient source of data integrity."
      ]
    }
  ]
}