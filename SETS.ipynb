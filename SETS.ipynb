{
  "nbformat": 4,
  "nbformat_minor": 0,
  "metadata": {
    "colab": {
      "name": "SETS",
      "provenance": [],
      "collapsed_sections": [],
      "include_colab_link": true
    },
    "kernelspec": {
      "name": "python3",
      "display_name": "Python 3"
    }
  },
  "cells": [
    {
      "cell_type": "markdown",
      "metadata": {
        "id": "view-in-github",
        "colab_type": "text"
      },
      "source": [
        "<a href=\"https://colab.research.google.com/github/amartsin/explore_ml_python/blob/master/SETS.ipynb\" target=\"_parent\"><img src=\"https://colab.research.google.com/assets/colab-badge.svg\" alt=\"Open In Colab\"/></a>"
      ]
    },
    {
      "cell_type": "markdown",
      "metadata": {
        "id": "NUto-vcZLe6o",
        "colab_type": "text"
      },
      "source": [
        "**SETS**"
      ]
    },
    {
      "cell_type": "markdown",
      "metadata": {
        "id": "JeSZB-QqLkFt",
        "colab_type": "text"
      },
      "source": [
        "Sets are an unordered collection of unique elements. We can construct them by using the set() function. Let's go ahead and make a set to see how it works"
      ]
    },
    {
      "cell_type": "code",
      "metadata": {
        "id": "WabLX5NKLk1o",
        "colab_type": "code",
        "colab": {}
      },
      "source": [
        "x = set()"
      ],
      "execution_count": 0,
      "outputs": []
    },
    {
      "cell_type": "code",
      "metadata": {
        "id": "y99wBKlyLmuU",
        "colab_type": "code",
        "colab": {}
      },
      "source": [
        "# We add to sets with the add() method\n",
        "x.add(1)"
      ],
      "execution_count": 0,
      "outputs": []
    },
    {
      "cell_type": "code",
      "metadata": {
        "id": "rpvEoSFELp5P",
        "colab_type": "code",
        "outputId": "b214ca6a-53dd-440b-98c5-b816a6c29c73",
        "colab": {
          "base_uri": "https://localhost:8080/",
          "height": 34
        }
      },
      "source": [
        "x"
      ],
      "execution_count": 0,
      "outputs": [
        {
          "output_type": "execute_result",
          "data": {
            "text/plain": [
              "{1}"
            ]
          },
          "metadata": {
            "tags": []
          },
          "execution_count": 3
        }
      ]
    },
    {
      "cell_type": "markdown",
      "metadata": {
        "id": "SnT_zpAcLxwK",
        "colab_type": "text"
      },
      "source": [
        "Note the curly brackets. This does not indicate a dictionary! Although you can draw analogies as a set being a dictionary with only keys.\n",
        "\n",
        "We know that a set has only unique entries. So what happens when we try to add something that is already in a set?"
      ]
    },
    {
      "cell_type": "code",
      "metadata": {
        "id": "Um_Nd7oBLyXl",
        "colab_type": "code",
        "colab": {}
      },
      "source": [
        "# Add a different element\n",
        "x.add(2)"
      ],
      "execution_count": 0,
      "outputs": []
    },
    {
      "cell_type": "code",
      "metadata": {
        "id": "dghVxVRyL13E",
        "colab_type": "code",
        "outputId": "3689530e-fec6-4b8c-f809-c2c1c7b3a399",
        "colab": {
          "base_uri": "https://localhost:8080/",
          "height": 34
        }
      },
      "source": [
        "#Show\n",
        "x"
      ],
      "execution_count": 0,
      "outputs": [
        {
          "output_type": "execute_result",
          "data": {
            "text/plain": [
              "{1, 2}"
            ]
          },
          "metadata": {
            "tags": []
          },
          "execution_count": 5
        }
      ]
    },
    {
      "cell_type": "code",
      "metadata": {
        "id": "pgq14aSGL37L",
        "colab_type": "code",
        "colab": {}
      },
      "source": [
        "\n",
        "# Try to add the same element\n",
        "x.add(1)"
      ],
      "execution_count": 0,
      "outputs": []
    },
    {
      "cell_type": "code",
      "metadata": {
        "id": "GGHbZ3VXL6Xe",
        "colab_type": "code",
        "outputId": "a7337c14-1776-41cc-d318-29739aaa1c86",
        "colab": {
          "base_uri": "https://localhost:8080/",
          "height": 34
        }
      },
      "source": [
        "#Show\n",
        "x"
      ],
      "execution_count": 0,
      "outputs": [
        {
          "output_type": "execute_result",
          "data": {
            "text/plain": [
              "{1, 2}"
            ]
          },
          "metadata": {
            "tags": []
          },
          "execution_count": 7
        }
      ]
    },
    {
      "cell_type": "code",
      "metadata": {
        "id": "IdbOJU7WL8vC",
        "colab_type": "code",
        "colab": {}
      },
      "source": [
        "# Create a list with repeats\n",
        "list1 = [1,1,2,2,3,4,5,6,1,1]"
      ],
      "execution_count": 0,
      "outputs": []
    },
    {
      "cell_type": "code",
      "metadata": {
        "id": "fbslZ9MPMFa3",
        "colab_type": "code",
        "outputId": "396f362d-413e-4754-8692-ce5967b148f7",
        "colab": {
          "base_uri": "https://localhost:8080/",
          "height": 34
        }
      },
      "source": [
        "set(list1)"
      ],
      "execution_count": 0,
      "outputs": [
        {
          "output_type": "execute_result",
          "data": {
            "text/plain": [
              "{1, 2, 3, 4, 5, 6}"
            ]
          },
          "metadata": {
            "tags": []
          },
          "execution_count": 9
        }
      ]
    },
    {
      "cell_type": "markdown",
      "metadata": {
        "id": "INPilxFhMW_m",
        "colab_type": "text"
      },
      "source": [
        "**COMPARISON OPERATORS**"
      ]
    },
    {
      "cell_type": "markdown",
      "metadata": {
        "id": "dcQE5TnkMod-",
        "colab_type": "text"
      },
      "source": [
        "Equal"
      ]
    },
    {
      "cell_type": "code",
      "metadata": {
        "id": "yoIosGG1MpfU",
        "colab_type": "code",
        "outputId": "207a2d71-31fe-4bc2-c342-9de57fd09694",
        "colab": {
          "base_uri": "https://localhost:8080/",
          "height": 34
        }
      },
      "source": [
        "2 == 2"
      ],
      "execution_count": 0,
      "outputs": [
        {
          "output_type": "execute_result",
          "data": {
            "text/plain": [
              "True"
            ]
          },
          "metadata": {
            "tags": []
          },
          "execution_count": 10
        }
      ]
    },
    {
      "cell_type": "code",
      "metadata": {
        "id": "y7QgHvS4MrjY",
        "colab_type": "code",
        "outputId": "15f37f80-e649-410b-b262-6def988c29a8",
        "colab": {
          "base_uri": "https://localhost:8080/",
          "height": 34
        }
      },
      "source": [
        "1==2"
      ],
      "execution_count": 0,
      "outputs": [
        {
          "output_type": "execute_result",
          "data": {
            "text/plain": [
              "False"
            ]
          },
          "metadata": {
            "tags": []
          },
          "execution_count": 11
        }
      ]
    },
    {
      "cell_type": "markdown",
      "metadata": {
        "id": "MT3ejtOYMxJW",
        "colab_type": "text"
      },
      "source": [
        "Not Equal"
      ]
    },
    {
      "cell_type": "code",
      "metadata": {
        "id": "pkejSWYPMy-8",
        "colab_type": "code",
        "outputId": "b4afc06b-99ed-4ae6-f6ca-e71484532d19",
        "colab": {
          "base_uri": "https://localhost:8080/",
          "height": 34
        }
      },
      "source": [
        "2 != 1"
      ],
      "execution_count": 0,
      "outputs": [
        {
          "output_type": "execute_result",
          "data": {
            "text/plain": [
              "True"
            ]
          },
          "metadata": {
            "tags": []
          },
          "execution_count": 12
        }
      ]
    },
    {
      "cell_type": "code",
      "metadata": {
        "id": "0Pk1lfRsM1Rx",
        "colab_type": "code",
        "outputId": "5e7133c8-8ef7-4a0f-dcaa-31efbb6f75fa",
        "colab": {
          "base_uri": "https://localhost:8080/",
          "height": 34
        }
      },
      "source": [
        "2 != 2"
      ],
      "execution_count": 0,
      "outputs": [
        {
          "output_type": "execute_result",
          "data": {
            "text/plain": [
              "False"
            ]
          },
          "metadata": {
            "tags": []
          },
          "execution_count": 13
        }
      ]
    },
    {
      "cell_type": "markdown",
      "metadata": {
        "id": "Ur2wX7GYM634",
        "colab_type": "text"
      },
      "source": [
        "Less Than"
      ]
    },
    {
      "cell_type": "code",
      "metadata": {
        "id": "OGblJDX1M75K",
        "colab_type": "code",
        "outputId": "aed77ccd-0601-4f67-ef00-c039c52773f0",
        "colab": {
          "base_uri": "https://localhost:8080/",
          "height": 34
        }
      },
      "source": [
        "2<4"
      ],
      "execution_count": 0,
      "outputs": [
        {
          "output_type": "execute_result",
          "data": {
            "text/plain": [
              "True"
            ]
          },
          "metadata": {
            "tags": []
          },
          "execution_count": 14
        }
      ]
    },
    {
      "cell_type": "code",
      "metadata": {
        "id": "b_lRjBCgM8sh",
        "colab_type": "code",
        "outputId": "6a98feac-6816-442d-e446-71e80de0c43f",
        "colab": {
          "base_uri": "https://localhost:8080/",
          "height": 34
        }
      },
      "source": [
        "2<1"
      ],
      "execution_count": 0,
      "outputs": [
        {
          "output_type": "execute_result",
          "data": {
            "text/plain": [
              "False"
            ]
          },
          "metadata": {
            "tags": []
          },
          "execution_count": 15
        }
      ]
    },
    {
      "cell_type": "markdown",
      "metadata": {
        "id": "QQzNpLTMNAyi",
        "colab_type": "text"
      },
      "source": [
        "Greater than"
      ]
    },
    {
      "cell_type": "code",
      "metadata": {
        "id": "RjP4LE4ENEb-",
        "colab_type": "code",
        "outputId": "24d16479-5a59-4529-93ec-42dc7dd57bd2",
        "colab": {
          "base_uri": "https://localhost:8080/",
          "height": 34
        }
      },
      "source": [
        "2>1"
      ],
      "execution_count": 0,
      "outputs": [
        {
          "output_type": "execute_result",
          "data": {
            "text/plain": [
              "True"
            ]
          },
          "metadata": {
            "tags": []
          },
          "execution_count": 16
        }
      ]
    },
    {
      "cell_type": "markdown",
      "metadata": {
        "id": "IenKBIkGNHt5",
        "colab_type": "text"
      },
      "source": [
        "Greater than or equal to"
      ]
    },
    {
      "cell_type": "code",
      "metadata": {
        "id": "6VauFT36NLKr",
        "colab_type": "code",
        "outputId": "bd18adf7-c29c-4d1d-8f44-8dc69c312604",
        "colab": {
          "base_uri": "https://localhost:8080/",
          "height": 34
        }
      },
      "source": [
        "2>=2"
      ],
      "execution_count": 0,
      "outputs": [
        {
          "output_type": "execute_result",
          "data": {
            "text/plain": [
              "True"
            ]
          },
          "metadata": {
            "tags": []
          },
          "execution_count": 17
        }
      ]
    },
    {
      "cell_type": "markdown",
      "metadata": {
        "id": "PGjdMc0jNOeJ",
        "colab_type": "text"
      },
      "source": [
        "Less Than Equal to "
      ]
    },
    {
      "cell_type": "code",
      "metadata": {
        "id": "0c_GxjNuNQer",
        "colab_type": "code",
        "outputId": "08dd6112-abb1-4452-a72b-6b115898ad0f",
        "colab": {
          "base_uri": "https://localhost:8080/",
          "height": 34
        }
      },
      "source": [
        "2 <= 4"
      ],
      "execution_count": 0,
      "outputs": [
        {
          "output_type": "execute_result",
          "data": {
            "text/plain": [
              "True"
            ]
          },
          "metadata": {
            "tags": []
          },
          "execution_count": 18
        }
      ]
    },
    {
      "cell_type": "markdown",
      "metadata": {
        "id": "2HEnT2J_NdF0",
        "colab_type": "text"
      },
      "source": [
        "Here we will now focus on chained operation which includes two important statements the \"**and**\" and the \"**or**\" . "
      ]
    },
    {
      "cell_type": "code",
      "metadata": {
        "id": "Dv5g4Rx6Nq8R",
        "colab_type": "code",
        "outputId": "34716a2c-19be-4309-e572-72447ca1bd1c",
        "colab": {
          "base_uri": "https://localhost:8080/",
          "height": 34
        }
      },
      "source": [
        "1 < 2 < 3"
      ],
      "execution_count": 0,
      "outputs": [
        {
          "output_type": "execute_result",
          "data": {
            "text/plain": [
              "True"
            ]
          },
          "metadata": {
            "tags": []
          },
          "execution_count": 19
        }
      ]
    },
    {
      "cell_type": "code",
      "metadata": {
        "id": "ZU7ZxxSbNt2w",
        "colab_type": "code",
        "outputId": "3105a9a9-6f0e-46d7-ca04-1084771820d5",
        "colab": {
          "base_uri": "https://localhost:8080/",
          "height": 34
        }
      },
      "source": [
        "1<2 and 2<3"
      ],
      "execution_count": 0,
      "outputs": [
        {
          "output_type": "execute_result",
          "data": {
            "text/plain": [
              "True"
            ]
          },
          "metadata": {
            "tags": []
          },
          "execution_count": 20
        }
      ]
    },
    {
      "cell_type": "code",
      "metadata": {
        "id": "EN0pw11sNvy1",
        "colab_type": "code",
        "outputId": "46bb1afe-7b91-40a1-8461-609759cc731e",
        "colab": {
          "base_uri": "https://localhost:8080/",
          "height": 34
        }
      },
      "source": [
        "1==2 or 2<3"
      ],
      "execution_count": 0,
      "outputs": [
        {
          "output_type": "execute_result",
          "data": {
            "text/plain": [
              "True"
            ]
          },
          "metadata": {
            "tags": []
          },
          "execution_count": 21
        }
      ]
    },
    {
      "cell_type": "markdown",
      "metadata": {
        "id": "hsR3tQoeR_WV",
        "colab_type": "text"
      },
      "source": [
        "**IF ELIF AND ELSE**"
      ]
    },
    {
      "cell_type": "markdown",
      "metadata": {
        "id": "-C2mbMr-SJs5",
        "colab_type": "text"
      },
      "source": [
        "if Statements in Python allows us to tell the computer to perform alternative actions based on a certain set of results.\n",
        "\n",
        "Verbally, we can imagine we are telling the computer:\n",
        "\n",
        "\"Hey if this case happens, perform some action\"\n",
        "\n",
        "We can then expand the idea further with elif and else statements, which allow us to tell the computer:\n",
        "\n",
        "\"Hey if this case happens, perform some action. Else, if another case happens, perform some other action. Else, if none of the above cases happened, perform this action.\"\n",
        "\n",
        "Let's go ahead and look at the syntax format for if statements to get a better idea of this:\n",
        "\n",
        "if case1:\n",
        "    perform action1\n",
        "elif case2:\n",
        "    perform action2\n",
        "else: \n",
        "    perform action3"
      ]
    },
    {
      "cell_type": "code",
      "metadata": {
        "id": "EwmqEiE1SKUU",
        "colab_type": "code",
        "outputId": "b45e00cb-1da4-4d44-9919-b4347e9dc449",
        "colab": {
          "base_uri": "https://localhost:8080/",
          "height": 34
        }
      },
      "source": [
        "if True:\n",
        "    print('It was true!')"
      ],
      "execution_count": 0,
      "outputs": [
        {
          "output_type": "stream",
          "text": [
            "It was true!\n"
          ],
          "name": "stdout"
        }
      ]
    },
    {
      "cell_type": "code",
      "metadata": {
        "id": "XUOEvtyYSMwr",
        "colab_type": "code",
        "outputId": "36203517-fa62-44d2-9a98-7d099aa18c80",
        "colab": {
          "base_uri": "https://localhost:8080/",
          "height": 34
        }
      },
      "source": [
        "x = False\n",
        "\n",
        "if x:\n",
        "    print('x was True!')\n",
        "else:\n",
        "    print('I will be printed in any case where x is not true')"
      ],
      "execution_count": 0,
      "outputs": [
        {
          "output_type": "stream",
          "text": [
            "I will be printed in any case where x is not true\n"
          ],
          "name": "stdout"
        }
      ]
    },
    {
      "cell_type": "markdown",
      "metadata": {
        "id": "eV72SqqDSTxv",
        "colab_type": "text"
      },
      "source": [
        "\n",
        "Multiple Branches\n",
        "Let's get a fuller picture of how far if, elif, and else can take us!\n",
        "\n",
        "We write this out in a nested structure. Take note of how the if, elif, and else line up in the code. This can help you see what if is related to what elif or else statements.\n",
        "\n",
        "We'll reintroduce a comparison syntax for Python."
      ]
    },
    {
      "cell_type": "code",
      "metadata": {
        "id": "yAV_4wDdSVz6",
        "colab_type": "code",
        "outputId": "1c4751a8-7900-4bda-9257-e4d9e4736d6b",
        "colab": {
          "base_uri": "https://localhost:8080/",
          "height": 34
        }
      },
      "source": [
        "loc = 'Bank'\n",
        "\n",
        "if loc == 'Auto Shop':\n",
        "    print('Welcome to the Auto Shop!')\n",
        "elif loc == 'Bank':\n",
        "    print('Welcome to the bank!')\n",
        "else:\n",
        "    print('Where are you?')"
      ],
      "execution_count": 0,
      "outputs": [
        {
          "output_type": "stream",
          "text": [
            "Welcome to the bank!\n"
          ],
          "name": "stdout"
        }
      ]
    },
    {
      "cell_type": "code",
      "metadata": {
        "id": "Ckf29MXiSYMn",
        "colab_type": "code",
        "colab": {}
      },
      "source": [
        ""
      ],
      "execution_count": 0,
      "outputs": []
    }
  ]
}